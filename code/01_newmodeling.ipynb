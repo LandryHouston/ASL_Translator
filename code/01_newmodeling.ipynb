{
 "cells": [
  {
   "cell_type": "code",
   "execution_count": 92,
   "metadata": {},
   "outputs": [],
   "source": [
    "# data = 'https://www.kaggle.com/datasets/debashishsau/aslamerican-sign-language-aplhabet-dataset'\n",
    "\n",
    "import os\n",
    "import cv2\n",
    "import splitfolders\n",
    "\n",
    "import pandas as pd\n",
    "import numpy as np\n",
    "import matplotlib.pyplot as plt\n",
    "import seaborn as sns\n",
    "import mediapipe as mp\n",
    "\n",
    "from keras.layers import MaxPooling2D, Conv2D, Flatten, Dense\n",
    "from keras.models import Sequential, load_model\n",
    "from keras.callbacks import EarlyStopping\n",
    "from keras.preprocessing import image\n",
    "from keras.preprocessing.image import ImageDataGenerator"
   ]
  },
  {
   "cell_type": "code",
   "execution_count": null,
   "metadata": {},
   "outputs": [],
   "source": [
    "def create_dataframe(main_directory):\n",
    "    \n",
    "    df_list = []\n",
    "\n",
    "    # Loops through each folder in main directory\n",
    "    for folder_name in os.listdir(main_directory):\n",
    "        folder_path = os.path.join(main_directory, folder_name)\n",
    "        \n",
    "        if os.path.isdir(folder_path):\n",
    "            # Get all files in the folder\n",
    "            files = [f for f in os.listdir(folder_path) if os.path.isfile(os.path.join(folder_path, f))]\n",
    "            \n",
    "            # Create a DataFrame for the folder\n",
    "            df_folder = pd.DataFrame({'Path': [os.path.join(folder_path, f) for f in files],\n",
    "                                    'Label': [folder_name] * len(files)})\n",
    "            \n",
    "            # Append the DataFrame to the list\n",
    "            df_list.append(df_folder)\n",
    "\n",
    "    # Concatenate all DataFrames into a single DataFrame\n",
    "    combined_df = pd.concat(df_list, ignore_index=True)\n",
    "    \n",
    "    return combined_df"
   ]
  },
  {
   "cell_type": "code",
   "execution_count": null,
   "metadata": {},
   "outputs": [],
   "source": [
    "df = create_dataframe('../data/asl_alphabet_train/')"
   ]
  },
  {
   "cell_type": "code",
   "execution_count": null,
   "metadata": {},
   "outputs": [],
   "source": [
    "df.info()"
   ]
  },
  {
   "cell_type": "code",
   "execution_count": null,
   "metadata": {},
   "outputs": [],
   "source": [
    "fig, axes = plt.subplots(nrows=3, ncols=4, figsize=(10, 7),\n",
    "                        subplot_kw={'xticks': [], 'yticks': []})\n",
    "\n",
    "for i, ax in enumerate(axes.flat):\n",
    "    ax.imshow(plt.imread(df.sample(n=12, random_state=42)['Path'].iloc[i]))\n",
    "    ax.set_title(df.sample(n=12, random_state=42)['Label'].iloc[i])"
   ]
  },
  {
   "cell_type": "code",
   "execution_count": null,
   "metadata": {},
   "outputs": [],
   "source": [
    "plt.figure(figsize=(12, 6))\n",
    "\n",
    "sns.barplot(x=df['Label'].value_counts().sort_index().index, y=df['Label'].value_counts(), palette=\"crest\")\n",
    "plt.title('Distribution of Labels')\n",
    "plt.xlabel('Labels')\n",
    "plt.ylabel('Count')\n",
    "\n",
    "plt.savefig('../images/distribution.png', bbox_inches='tight')"
   ]
  },
  {
   "cell_type": "code",
   "execution_count": null,
   "metadata": {},
   "outputs": [],
   "source": [
    "# Splits data into 75% Train, 15% Validation, and 10% Test\n",
    "splitfolders.ratio('../data/asl_alphabet_train/',output='../data/split/original/', seed=42, ratio=(0.75, 0.15, 0.1))"
   ]
  },
  {
   "cell_type": "code",
   "execution_count": null,
   "metadata": {},
   "outputs": [],
   "source": [
    "datagen = ImageDataGenerator(rescale= 1.0 / 255)\n",
    "\n",
    "train = datagen.flow_from_directory(directory= '../data/train/', \n",
    "                                         target_size=(256, 256), \n",
    "                                         batch_size = 32, \n",
    "                                         class_mode='categorical')\n",
    "\n",
    "val = datagen.flow_from_directory(directory= '../data/val/', \n",
    "                                       target_size=(256, 256), \n",
    "                                       batch_size = 32, \n",
    "                                       class_mode='categorical',\n",
    "                                       )\n",
    "\n",
    "test = datagen.flow_from_directory(directory= '../data/test/', \n",
    "                                         target_size=(256, 256), \n",
    "                                         batch_size = 32, \n",
    "                                         class_mode='categorical')\n"
   ]
  },
  {
   "cell_type": "code",
   "execution_count": 8,
   "metadata": {},
   "outputs": [
    {
     "name": "stdout",
     "output_type": "stream",
     "text": [
      "Epoch 1/100\n",
      "4482/4482 [==============================] - 675s 150ms/step - loss: 0.5561 - acc: 0.8310 - val_loss: 0.1160 - val_acc: 0.9664\n",
      "Epoch 2/100\n",
      "4482/4482 [==============================] - 763s 170ms/step - loss: 0.0952 - acc: 0.9717 - val_loss: 0.1017 - val_acc: 0.9742\n",
      "Epoch 3/100\n",
      "4482/4482 [==============================] - 663s 148ms/step - loss: 0.0552 - acc: 0.9841 - val_loss: 0.0827 - val_acc: 0.9787\n",
      "Epoch 4/100\n",
      "4482/4482 [==============================] - 672s 150ms/step - loss: 0.0393 - acc: 0.9889 - val_loss: 0.0777 - val_acc: 0.9844\n",
      "Epoch 5/100\n",
      "4482/4482 [==============================] - 670s 149ms/step - loss: 0.0313 - acc: 0.9920 - val_loss: 0.0954 - val_acc: 0.9813\n",
      "Epoch 6/100\n",
      "4482/4482 [==============================] - 674s 150ms/step - loss: 0.0260 - acc: 0.9930 - val_loss: 0.0987 - val_acc: 0.9792\n",
      "Epoch 7/100\n",
      "4482/4482 [==============================] - 762s 170ms/step - loss: 0.0219 - acc: 0.9942 - val_loss: 0.0713 - val_acc: 0.9892\n",
      "Epoch 8/100\n",
      "4482/4482 [==============================] - 666s 148ms/step - loss: 0.0206 - acc: 0.9948 - val_loss: 0.0685 - val_acc: 0.9878\n",
      "Epoch 9/100\n",
      "4482/4482 [==============================] - 665s 148ms/step - loss: 0.0188 - acc: 0.9953 - val_loss: 0.0762 - val_acc: 0.9867\n",
      "Epoch 10/100\n",
      "4482/4482 [==============================] - 679s 151ms/step - loss: 0.0155 - acc: 0.9959 - val_loss: 0.0853 - val_acc: 0.9877\n",
      "Epoch 11/100\n",
      "4482/4482 [==============================] - 763s 170ms/step - loss: 0.0172 - acc: 0.9960 - val_loss: 0.0809 - val_acc: 0.9890\n"
     ]
    }
   ],
   "source": [
    "model = Sequential()\n",
    "\n",
    "model.add(Conv2D(32, 3, activation=\"relu\", padding=\"same\", input_shape=(256, 256, 3)))\n",
    "model.add(MaxPooling2D(2))\n",
    "\n",
    "\n",
    "model.add(Conv2D(64, 3, activation=\"relu\", padding=\"same\"))\n",
    "model.add(MaxPooling2D(2))\n",
    "\n",
    "\n",
    "model.add(Conv2D(128, 3, activation=\"relu\", padding=\"same\"))\n",
    "model.add(MaxPooling2D(2))\n",
    "\n",
    "\n",
    "model.add(Conv2D(256, 3, activation=\"relu\", padding=\"same\"))\n",
    "model.add(MaxPooling2D(2))\n",
    "\n",
    "\n",
    "model.add(Flatten())\n",
    "model.add(Dense(512, activation=\"relu\"))\n",
    "\n",
    "\n",
    "model.add(Dense(24, activation=\"softmax\"))\n",
    "\n",
    "model.compile(loss=\"categorical_crossentropy\", optimizer=\"adam\", metrics=[\"acc\"])\n",
    "\n",
    "early_stopping = EarlyStopping(\n",
    "    patience=3, monitor=\"val_loss\", restore_best_weights=True\n",
    ")\n",
    "\n",
    "history = model.fit(\n",
    "    train,\n",
    "    validation_data=val,\n",
    "    epochs=100,\n",
    "    callbacks=[early_stopping],\n",
    ")"
   ]
  },
  {
   "cell_type": "code",
   "execution_count": 9,
   "metadata": {},
   "outputs": [
    {
     "name": "stderr",
     "output_type": "stream",
     "text": [
      "/home/landryhouston/anaconda3/envs/tf_env/lib/python3.10/site-packages/keras/src/engine/training.py:3103: UserWarning: You are saving your model as an HDF5 file via `model.save()`. This file format is considered legacy. We recommend using instead the native Keras format, e.g. `model.save('my_model.keras')`.\n",
      "  saving_api.save_model(\n"
     ]
    }
   ],
   "source": [
    "model.save(\"../data/model.h5\")"
   ]
  },
  {
   "cell_type": "code",
   "execution_count": 10,
   "metadata": {},
   "outputs": [
    {
     "data": {
      "image/png": "[encoded data removed]",
      "text/plain": [
       "<Figure size 640x480 with 1 Axes>"
      ]
     },
     "metadata": {},
     "output_type": "display_data"
    }
   ],
   "source": [
    "plt.plot(history.history['acc'], label='Training Accuracy')\n",
    "plt.plot(history.history['val_acc'], label='Validation Accuracy')\n",
    "plt.xlabel('Epochs')\n",
    "plt.ylabel('Accuracy')\n",
    "plt.legend();"
   ]
  },
  {
   "cell_type": "code",
   "execution_count": 11,
   "metadata": {},
   "outputs": [
    {
     "data": {
      "image/png": "[encoded data removed]",
      "text/plain": [
       "<Figure size 640x480 with 1 Axes>"
      ]
     },
     "metadata": {},
     "output_type": "display_data"
    }
   ],
   "source": [
    "plt.plot(history.history['loss'], label='Training Loss')\n",
    "plt.plot(history.history['val_loss'], label='Validation Loss')\n",
    "plt.xlabel('Epochs')\n",
    "plt.ylabel('Loss')\n",
    "plt.legend();"
   ]
  },
  {
   "cell_type": "code",
   "execution_count": null,
   "metadata": {},
   "outputs": [],
   "source": [
    "print(f\"Test Accuracy: {model.evaluate(test):.4f}\")\n",
    "print(f\"Train Accuracy: {model.evaluate(train):.4f}\")"
   ]
  },
  {
   "cell_type": "code",
   "execution_count": 79,
   "metadata": {},
   "outputs": [],
   "source": [
    "model = load_model('../data/model.h5')"
   ]
  },
  {
   "cell_type": "code",
   "execution_count": 80,
   "metadata": {},
   "outputs": [
    {
     "name": "stdout",
     "output_type": "stream",
     "text": [
      "1/1 [==============================] - 0s 332ms/step\n",
      "Predicted class: R\n"
     ]
    }
   ],
   "source": [
    "img_path = \"../data/asl_alphabet_test/R_test.jpg\"\n",
    "\n",
    "img = image.load_img(img_path, target_size=(256, 256))\n",
    "img_array = image.img_to_array(img)\n",
    "img_array = np.expand_dims(img_array, axis=0)\n",
    "\n",
    "predictions = model.predict(img_array)\n",
    "\n",
    "class_labels = ['A', 'B', 'C', 'D', 'E', 'F', 'G', 'H', 'I', 'K', 'L', 'M', 'N', 'O', 'P', 'Q', 'R', 'S', 'T', 'U', 'V', 'W', 'X', 'Y']\n",
    "predicted_class = class_labels[np.argmax(predictions)]\n",
    "print(f\"Predicted class: {predicted_class}\")"
   ]
  },
  {
   "cell_type": "code",
   "execution_count": 89,
   "metadata": {},
   "outputs": [],
   "source": [
    "def cropped_images(base_directory):\n",
    "    '''    \n",
    "    This function takes in a argument for a folder directory with subfolders containing images.\n",
    "    Using MediaPipe I was able to detect whether a hand is in the image or not. \n",
    "    The image gets cropped to remove some of the background with little to no cropping of the hand.\n",
    "    It will only detect one hand per image or pass if no hand is detected.\n",
    "    A box is created around the detected hand and then cropped. The cropped image is saved into a new \n",
    "    folder and in the appropriate subfolder just as the base folder directory.\n",
    "    '''    \n",
    "    mp_hands = mp.solutions.hands\n",
    "    hands = mp_hands.Hands()\n",
    "\n",
    "    # Iterates through subfolders\n",
    "    for folder_name in os.listdir(base_directory):\n",
    "        folder_path = os.path.join(base_directory, folder_name)\n",
    "\n",
    "        if os.path.isdir(folder_path):\n",
    "            # Gets all files in the folder\n",
    "            files = [f for f in os.listdir(folder_path) if os.path.isfile(os.path.join(folder_path, f))]\n",
    "\n",
    "            # Iterates through images in the subfolder\n",
    "            for i, file_name in enumerate(files):\n",
    "                image_path = os.path.join(folder_path, file_name)\n",
    "                image = cv2.imread(image_path)\n",
    "\n",
    "                if image is None:\n",
    "                    print(f\"Error: Unable to load the image from the path: {image_path}\")\n",
    "                    continue\n",
    "\n",
    "                # Converts the image to RGB\n",
    "                image_rgb = cv2.cvtColor(image, cv2.COLOR_BGR2RGB)\n",
    "\n",
    "                # Hand detection\n",
    "                results = hands.process(image_rgb)\n",
    "                \n",
    "                if results.multi_hand_landmarks:\n",
    "\n",
    "                    for hand_landmarks in results.multi_hand_landmarks:\n",
    "                        landmarks_px = [(int(l.x * image.shape[1]), int(l.y * image.shape[0])) for l in hand_landmarks.landmark]\n",
    "                        x, y, w, h = cv2.boundingRect(np.array(landmarks_px))\n",
    "                        enlarged_w = int(w * 1.25)\n",
    "                        enlarged_h = int(h * 1.25)\n",
    "                        x -= int((enlarged_w - w) / 2)\n",
    "                        y -= int((enlarged_h - h) / 2)\n",
    "\n",
    "                        # Crops the hand region\n",
    "                        cropped_hand = image[y:y + enlarged_h, x:x + enlarged_w]\n",
    "\n",
    "                        # Saves the cropped image in a new directory\n",
    "                        new_folder = f'../data/cropped/{folder_name}'\n",
    "                        os.makedirs(new_folder, exist_ok=True)\n",
    "\n",
    "                        # Checks if cropped_hand is empty before writing. Continues if empty.\n",
    "                        if cropped_hand.size != 0:\n",
    "                            cv2.imwrite(os.path.join(new_folder, f'cropped_hand_{folder_name}_{i+1}.jpg'), cropped_hand)\n",
    "    hands.close()\n"
   ]
  },
  {
   "cell_type": "code",
   "execution_count": null,
   "metadata": {},
   "outputs": [],
   "source": [
    "cropped_images('../data/asl_alphabet_train/')"
   ]
  },
  {
   "cell_type": "code",
   "execution_count": 97,
   "metadata": {},
   "outputs": [
    {
     "name": "stderr",
     "output_type": "stream",
     "text": [
      "Copying files: 155970 files [04:07, 631.33 files/s] \n"
     ]
    }
   ],
   "source": [
    "# Splits data into 75% Train, 15% Validation, and 10% Test\n",
    "splitfolders.ratio('../data/cropped/', output='../data/split/cropped', seed=42, ratio=(0.75, 0.15, 0.1))"
   ]
  },
  {
   "cell_type": "code",
   "execution_count": 98,
   "metadata": {},
   "outputs": [
    {
     "name": "stdout",
     "output_type": "stream",
     "text": [
      "Found 116970 images belonging to 24 classes.\n",
      "Found 23385 images belonging to 24 classes.\n",
      "Found 15615 images belonging to 24 classes.\n"
     ]
    }
   ],
   "source": [
    "datagen = ImageDataGenerator(rescale= 1.0 / 255)\n",
    "\n",
    "train = datagen.flow_from_directory(directory= '../data/split/cropped/train/', \n",
    "                                         target_size=(256, 256), \n",
    "                                         batch_size = 32, \n",
    "                                         class_mode='categorical')\n",
    "\n",
    "val = datagen.flow_from_directory(directory= '../data/split/cropped/val/', \n",
    "                                       target_size=(256, 256), \n",
    "                                       batch_size = 32, \n",
    "                                       class_mode='categorical',\n",
    "                                       )\n",
    "\n",
    "test = datagen.flow_from_directory(directory= '../data/split/cropped/test/', \n",
    "                                         target_size=(256, 256), \n",
    "                                         batch_size = 32, \n",
    "                                         class_mode='categorical')\n"
   ]
  },
  {
   "cell_type": "code",
   "execution_count": null,
   "metadata": {},
   "outputs": [],
   "source": [
    "model = Sequential()\n",
    "\n",
    "model.add(Conv2D(32, 3, activation=\"relu\", padding=\"same\", input_shape=(256, 256, 3)))\n",
    "model.add(MaxPooling2D(2))\n",
    "\n",
    "\n",
    "model.add(Conv2D(64, 3, activation=\"relu\", padding=\"same\"))\n",
    "model.add(MaxPooling2D(2))\n",
    "\n",
    "\n",
    "model.add(Conv2D(128, 3, activation=\"relu\", padding=\"same\"))\n",
    "model.add(MaxPooling2D(2))\n",
    "\n",
    "\n",
    "model.add(Conv2D(256, 3, activation=\"relu\", padding=\"same\"))\n",
    "model.add(MaxPooling2D(2))\n",
    "\n",
    "\n",
    "model.add(Flatten())\n",
    "model.add(Dense(512, activation=\"relu\"))\n",
    "\n",
    "\n",
    "model.add(Dense(24, activation=\"softmax\"))\n",
    "\n",
    "model.compile(loss=\"categorical_crossentropy\", optimizer=\"adam\", metrics=[\"acc\"])\n",
    "\n",
    "early_stopping = EarlyStopping(\n",
    "    patience=5, monitor=\"val_loss\", restore_best_weights=True\n",
    ")\n",
    "\n",
    "history = model.fit(\n",
    "    train,\n",
    "    validation_data=val,\n",
    "    epochs=100,\n",
    "    callbacks=[early_stopping],\n",
    ")"
   ]
  },
  {
   "cell_type": "code",
   "execution_count": null,
   "metadata": {},
   "outputs": [],
   "source": [
    "model.save(\"../data/model_cropped.h5\")"
   ]
  },
  {
   "cell_type": "code",
   "execution_count": null,
   "metadata": {},
   "outputs": [],
   "source": []
  }
 ],
 "metadata": {
  "kernelspec": {
   "display_name": "env_full",
   "language": "python",
   "name": "python3"
  },
  "language_info": {
   "codemirror_mode": {
    "name": "ipython",
    "version": 3
   },
   "file_extension": ".py",
   "mimetype": "text/x-python",
   "name": "python",
   "nbconvert_exporter": "python",
   "pygments_lexer": "ipython3",
   "version": "3.11.7"
  }
 },
 "nbformat": 4,
 "nbformat_minor": 2
}
